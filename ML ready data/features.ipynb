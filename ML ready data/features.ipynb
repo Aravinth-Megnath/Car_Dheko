{
 "cells": [
  {
   "cell_type": "code",
   "execution_count": 1,
   "metadata": {},
   "outputs": [
    {
     "data": {
      "text/html": [
       "<div>\n",
       "<style scoped>\n",
       "    .dataframe tbody tr th:only-of-type {\n",
       "        vertical-align: middle;\n",
       "    }\n",
       "\n",
       "    .dataframe tbody tr th {\n",
       "        vertical-align: top;\n",
       "    }\n",
       "\n",
       "    .dataframe thead th {\n",
       "        text-align: right;\n",
       "    }\n",
       "</style>\n",
       "<table border=\"1\" class=\"dataframe\">\n",
       "  <thead>\n",
       "    <tr style=\"text-align: right;\">\n",
       "      <th></th>\n",
       "      <th>Insurance Validity</th>\n",
       "      <th>Fuel Type</th>\n",
       "      <th>Engine Displacement</th>\n",
       "      <th>Year of Manufacture</th>\n",
       "      <th>ft</th>\n",
       "      <th>bt</th>\n",
       "      <th>transmission</th>\n",
       "      <th>ownerNo</th>\n",
       "      <th>oem</th>\n",
       "      <th>model</th>\n",
       "      <th>Wheel Size</th>\n",
       "      <th>Color</th>\n",
       "      <th>No of Cylinder</th>\n",
       "      <th>Fuel Suppy System</th>\n",
       "      <th>Turbo Charger</th>\n",
       "      <th>Length</th>\n",
       "      <th>Width</th>\n",
       "      <th>Height</th>\n",
       "      <th>Wheel Base</th>\n",
       "      <th>Gear Box</th>\n",
       "      <th>Drive Type</th>\n",
       "      <th>Seating Capacity</th>\n",
       "      <th>Steering Type</th>\n",
       "      <th>Tyre Type</th>\n",
       "      <th>No Door Numbers</th>\n",
       "      <th>Cargo Volumn</th>\n",
       "      <th>Mileage</th>\n",
       "      <th>Value Configuration</th>\n",
       "      <th>Super Charger</th>\n",
       "      <th>Turning Radius</th>\n",
       "      <th>City</th>\n",
       "      <th>price_in_lakhs</th>\n",
       "      <th>km_winsorized</th>\n",
       "      <th>price_in_lakhs_winzorized</th>\n",
       "    </tr>\n",
       "  </thead>\n",
       "  <tbody>\n",
       "    <tr>\n",
       "      <th>0</th>\n",
       "      <td>Third Party insurance</td>\n",
       "      <td>Petrol</td>\n",
       "      <td>998 cc</td>\n",
       "      <td>2015.0</td>\n",
       "      <td>Petrol</td>\n",
       "      <td>Hatchback</td>\n",
       "      <td>Manual</td>\n",
       "      <td>3</td>\n",
       "      <td>Maruti</td>\n",
       "      <td>Maruti Celerio</td>\n",
       "      <td>15.0</td>\n",
       "      <td>White</td>\n",
       "      <td>3.0</td>\n",
       "      <td>MPFi</td>\n",
       "      <td>No</td>\n",
       "      <td>3715.0</td>\n",
       "      <td>1635.0</td>\n",
       "      <td>1565.0</td>\n",
       "      <td>2425.0</td>\n",
       "      <td>5 Speed</td>\n",
       "      <td>FWD</td>\n",
       "      <td>5.0</td>\n",
       "      <td>Power</td>\n",
       "      <td>tubeless,radial</td>\n",
       "      <td>5.0</td>\n",
       "      <td>235.0</td>\n",
       "      <td>23.1</td>\n",
       "      <td>DOHC</td>\n",
       "      <td>No</td>\n",
       "      <td>4.7</td>\n",
       "      <td>Bangalore</td>\n",
       "      <td>4.00</td>\n",
       "      <td>11.563955</td>\n",
       "      <td>4.00</td>\n",
       "    </tr>\n",
       "    <tr>\n",
       "      <th>1</th>\n",
       "      <td>Comprehensive</td>\n",
       "      <td>Petrol</td>\n",
       "      <td>1497 cc</td>\n",
       "      <td>2018.0</td>\n",
       "      <td>Petrol</td>\n",
       "      <td>SUV</td>\n",
       "      <td>Manual</td>\n",
       "      <td>2</td>\n",
       "      <td>Ford</td>\n",
       "      <td>Ford Ecosport</td>\n",
       "      <td>16.0</td>\n",
       "      <td>White</td>\n",
       "      <td>3.0</td>\n",
       "      <td>Direct Injection</td>\n",
       "      <td>No</td>\n",
       "      <td>3998.0</td>\n",
       "      <td>1765.0</td>\n",
       "      <td>1647.0</td>\n",
       "      <td>2519.0</td>\n",
       "      <td>5 Speed</td>\n",
       "      <td>FWD</td>\n",
       "      <td>5.0</td>\n",
       "      <td>Power</td>\n",
       "      <td>tubeless,radial</td>\n",
       "      <td>4.0</td>\n",
       "      <td>352.0</td>\n",
       "      <td>17.0</td>\n",
       "      <td>DOHC</td>\n",
       "      <td>No</td>\n",
       "      <td>5.3</td>\n",
       "      <td>Bangalore</td>\n",
       "      <td>8.11</td>\n",
       "      <td>10.395344</td>\n",
       "      <td>8.11</td>\n",
       "    </tr>\n",
       "  </tbody>\n",
       "</table>\n",
       "</div>"
      ],
      "text/plain": [
       "      Insurance Validity Fuel Type Engine Displacement  Year of Manufacture  \\\n",
       "0  Third Party insurance    Petrol              998 cc               2015.0   \n",
       "1          Comprehensive    Petrol             1497 cc               2018.0   \n",
       "\n",
       "       ft         bt transmission  ownerNo     oem           model  \\\n",
       "0  Petrol  Hatchback       Manual        3  Maruti  Maruti Celerio   \n",
       "1  Petrol        SUV       Manual        2    Ford   Ford Ecosport   \n",
       "\n",
       "   Wheel Size  Color  No of Cylinder Fuel Suppy System Turbo Charger  Length  \\\n",
       "0        15.0  White             3.0              MPFi            No  3715.0   \n",
       "1        16.0  White             3.0  Direct Injection            No  3998.0   \n",
       "\n",
       "    Width  Height  Wheel Base  Gear Box Drive Type  Seating Capacity  \\\n",
       "0  1635.0  1565.0      2425.0  5 Speed         FWD               5.0   \n",
       "1  1765.0  1647.0      2519.0   5 Speed        FWD               5.0   \n",
       "\n",
       "  Steering Type        Tyre Type  No Door Numbers  Cargo Volumn  Mileage  \\\n",
       "0         Power  tubeless,radial              5.0         235.0     23.1   \n",
       "1         Power  tubeless,radial              4.0         352.0     17.0   \n",
       "\n",
       "  Value Configuration Super Charger  Turning Radius       City  \\\n",
       "0                DOHC            No             4.7  Bangalore   \n",
       "1                DOHC            No             5.3  Bangalore   \n",
       "\n",
       "   price_in_lakhs  km_winsorized  price_in_lakhs_winzorized  \n",
       "0            4.00      11.563955                       4.00  \n",
       "1            8.11      10.395344                       8.11  "
      ]
     },
     "execution_count": 1,
     "metadata": {},
     "output_type": "execute_result"
    }
   ],
   "source": [
    "import pandas as pd\n",
    "import numpy as np \n",
    "import matplotlib.pyplot as plt\n",
    "import seaborn as sns\n",
    "\n",
    "df = pd.read_csv('M:\\Car_Dheko\\cleaned_data.csv')\n",
    "pd.set_option('display.max_columns', None)\n",
    "df.head(2)"
   ]
  },
  {
   "cell_type": "markdown",
   "metadata": {},
   "source": [
    "## Numerical vs Numerical"
   ]
  },
  {
   "cell_type": "code",
   "execution_count": 2,
   "metadata": {},
   "outputs": [
    {
     "data": {
      "text/plain": [
       "Index(['Year of Manufacture', 'ownerNo', 'Wheel Size', 'No of Cylinder',\n",
       "       'Length', 'Width', 'Height', 'Wheel Base', 'Seating Capacity',\n",
       "       'No Door Numbers', 'Cargo Volumn', 'Mileage', 'Turning Radius',\n",
       "       'price_in_lakhs', 'km_winsorized', 'price_in_lakhs_winzorized'],\n",
       "      dtype='object')"
      ]
     },
     "execution_count": 2,
     "metadata": {},
     "output_type": "execute_result"
    }
   ],
   "source": [
    "numerical_cols = df.select_dtypes(include=[np.number]).columns\n",
    "\n",
    "numerical_cols"
   ]
  },
  {
   "cell_type": "code",
   "execution_count": 7,
   "metadata": {},
   "outputs": [
    {
     "data": {
      "text/plain": [
       "Seating Capacity\n",
       "5.0     7350\n",
       "7.0      728\n",
       "6.0      103\n",
       "4.0       93\n",
       "8.0       62\n",
       "9.0       11\n",
       "2.0        7\n",
       "10.0       5\n",
       "Name: count, dtype: int64"
      ]
     },
     "execution_count": 7,
     "metadata": {},
     "output_type": "execute_result"
    }
   ],
   "source": [
    "df['Seating Capacity'].value_counts()"
   ]
  },
  {
   "cell_type": "code",
   "execution_count": 3,
   "metadata": {},
   "outputs": [
    {
     "data": {
      "text/plain": [
       "np.float64(-0.2820186809070669)"
      ]
     },
     "execution_count": 3,
     "metadata": {},
     "output_type": "execute_result"
    }
   ],
   "source": [
    "df['km_winsorized'].corr(df['price_in_lakhs_winzorized'])"
   ]
  },
  {
   "cell_type": "code",
   "execution_count": 8,
   "metadata": {},
   "outputs": [],
   "source": [
    "actual_numerical_cols = ['Wheel Size','Length','Width','Height','Wheel Base','Cargo Volumn','Mileage',\n",
    "                         'Turning Radius','km_winsorized','price_in_lakhs_winzorized']"
   ]
  },
  {
   "cell_type": "code",
   "execution_count": 9,
   "metadata": {},
   "outputs": [
    {
     "name": "stdout",
     "output_type": "stream",
     "text": [
      "Corr Wheel Size : 0.7251987213007638\n",
      "Corr Length : 0.6632795435202026\n",
      "Corr Width : 0.705068760360889\n",
      "Corr Height : 0.3315881858988279\n",
      "Corr Wheel Base : 0.6991702038953377\n",
      "Corr Cargo Volumn : 0.11492484041422325\n",
      "Corr Mileage : -0.3787071479199668\n",
      "Corr Turning Radius : 0.017606847697566406\n",
      "Corr km_winsorized : -0.28201868090706683\n",
      "Corr price_in_lakhs_winzorized : 1.0\n"
     ]
    }
   ],
   "source": [
    "for i in actual_numerical_cols:\n",
    "    corr = df['price_in_lakhs_winzorized'].corr(df[i])\n",
    "    print(f'Corr {i} :', corr)"
   ]
  },
  {
   "cell_type": "code",
   "execution_count": 11,
   "metadata": {},
   "outputs": [
    {
     "data": {
      "text/plain": [
       "np.float64(0.7499061156863792)"
      ]
     },
     "execution_count": 11,
     "metadata": {},
     "output_type": "execute_result"
    }
   ],
   "source": [
    "df['Wheel Size'].corr(df['Wheel Base'])"
   ]
  },
  {
   "cell_type": "code",
   "execution_count": 10,
   "metadata": {},
   "outputs": [
    {
     "data": {
      "text/plain": [
       "np.float64(0.7898975061289734)"
      ]
     },
     "execution_count": 10,
     "metadata": {},
     "output_type": "execute_result"
    }
   ],
   "source": [
    "df['Width'].corr(df['Length'])"
   ]
  },
  {
   "cell_type": "code",
   "execution_count": 14,
   "metadata": {},
   "outputs": [
    {
     "data": {
      "text/html": [
       "<div>\n",
       "<style scoped>\n",
       "    .dataframe tbody tr th:only-of-type {\n",
       "        vertical-align: middle;\n",
       "    }\n",
       "\n",
       "    .dataframe tbody tr th {\n",
       "        vertical-align: top;\n",
       "    }\n",
       "\n",
       "    .dataframe thead th {\n",
       "        text-align: right;\n",
       "    }\n",
       "</style>\n",
       "<table border=\"1\" class=\"dataframe\">\n",
       "  <thead>\n",
       "    <tr style=\"text-align: right;\">\n",
       "      <th></th>\n",
       "      <th>Wheel Size</th>\n",
       "      <th>Length</th>\n",
       "      <th>Width</th>\n",
       "      <th>Height</th>\n",
       "      <th>Wheel Base</th>\n",
       "      <th>Cargo Volumn</th>\n",
       "      <th>Mileage</th>\n",
       "      <th>Turning Radius</th>\n",
       "      <th>km_winsorized</th>\n",
       "      <th>price_in_lakhs_winzorized</th>\n",
       "    </tr>\n",
       "  </thead>\n",
       "  <tbody>\n",
       "    <tr>\n",
       "      <th>Wheel Size</th>\n",
       "      <td>1.000000</td>\n",
       "      <td>0.723582</td>\n",
       "      <td>0.833802</td>\n",
       "      <td>0.370823</td>\n",
       "      <td>0.749906</td>\n",
       "      <td>0.125404</td>\n",
       "      <td>-0.329249</td>\n",
       "      <td>0.027051</td>\n",
       "      <td>-0.130394</td>\n",
       "      <td>0.725199</td>\n",
       "    </tr>\n",
       "    <tr>\n",
       "      <th>Length</th>\n",
       "      <td>0.723582</td>\n",
       "      <td>1.000000</td>\n",
       "      <td>0.789898</td>\n",
       "      <td>0.240192</td>\n",
       "      <td>0.920054</td>\n",
       "      <td>0.163800</td>\n",
       "      <td>-0.504833</td>\n",
       "      <td>0.050220</td>\n",
       "      <td>0.047462</td>\n",
       "      <td>0.663280</td>\n",
       "    </tr>\n",
       "    <tr>\n",
       "      <th>Width</th>\n",
       "      <td>0.833802</td>\n",
       "      <td>0.789898</td>\n",
       "      <td>1.000000</td>\n",
       "      <td>0.314139</td>\n",
       "      <td>0.812143</td>\n",
       "      <td>0.145282</td>\n",
       "      <td>-0.408953</td>\n",
       "      <td>0.023360</td>\n",
       "      <td>-0.031235</td>\n",
       "      <td>0.705069</td>\n",
       "    </tr>\n",
       "    <tr>\n",
       "      <th>Height</th>\n",
       "      <td>0.370823</td>\n",
       "      <td>0.240192</td>\n",
       "      <td>0.314139</td>\n",
       "      <td>1.000000</td>\n",
       "      <td>0.315547</td>\n",
       "      <td>0.012307</td>\n",
       "      <td>-0.288324</td>\n",
       "      <td>0.034584</td>\n",
       "      <td>-0.019267</td>\n",
       "      <td>0.331588</td>\n",
       "    </tr>\n",
       "    <tr>\n",
       "      <th>Wheel Base</th>\n",
       "      <td>0.749906</td>\n",
       "      <td>0.920054</td>\n",
       "      <td>0.812143</td>\n",
       "      <td>0.315547</td>\n",
       "      <td>1.000000</td>\n",
       "      <td>0.125641</td>\n",
       "      <td>-0.477465</td>\n",
       "      <td>0.059048</td>\n",
       "      <td>-0.008189</td>\n",
       "      <td>0.699170</td>\n",
       "    </tr>\n",
       "    <tr>\n",
       "      <th>Cargo Volumn</th>\n",
       "      <td>0.125404</td>\n",
       "      <td>0.163800</td>\n",
       "      <td>0.145282</td>\n",
       "      <td>0.012307</td>\n",
       "      <td>0.125641</td>\n",
       "      <td>1.000000</td>\n",
       "      <td>-0.093367</td>\n",
       "      <td>-0.964723</td>\n",
       "      <td>0.023152</td>\n",
       "      <td>0.114925</td>\n",
       "    </tr>\n",
       "    <tr>\n",
       "      <th>Mileage</th>\n",
       "      <td>-0.329249</td>\n",
       "      <td>-0.504833</td>\n",
       "      <td>-0.408953</td>\n",
       "      <td>-0.288324</td>\n",
       "      <td>-0.477465</td>\n",
       "      <td>-0.093367</td>\n",
       "      <td>1.000000</td>\n",
       "      <td>-0.009626</td>\n",
       "      <td>0.000848</td>\n",
       "      <td>-0.378707</td>\n",
       "    </tr>\n",
       "    <tr>\n",
       "      <th>Turning Radius</th>\n",
       "      <td>0.027051</td>\n",
       "      <td>0.050220</td>\n",
       "      <td>0.023360</td>\n",
       "      <td>0.034584</td>\n",
       "      <td>0.059048</td>\n",
       "      <td>-0.964723</td>\n",
       "      <td>-0.009626</td>\n",
       "      <td>1.000000</td>\n",
       "      <td>-0.011933</td>\n",
       "      <td>0.017607</td>\n",
       "    </tr>\n",
       "    <tr>\n",
       "      <th>km_winsorized</th>\n",
       "      <td>-0.130394</td>\n",
       "      <td>0.047462</td>\n",
       "      <td>-0.031235</td>\n",
       "      <td>-0.019267</td>\n",
       "      <td>-0.008189</td>\n",
       "      <td>0.023152</td>\n",
       "      <td>0.000848</td>\n",
       "      <td>-0.011933</td>\n",
       "      <td>1.000000</td>\n",
       "      <td>-0.282019</td>\n",
       "    </tr>\n",
       "    <tr>\n",
       "      <th>price_in_lakhs_winzorized</th>\n",
       "      <td>0.725199</td>\n",
       "      <td>0.663280</td>\n",
       "      <td>0.705069</td>\n",
       "      <td>0.331588</td>\n",
       "      <td>0.699170</td>\n",
       "      <td>0.114925</td>\n",
       "      <td>-0.378707</td>\n",
       "      <td>0.017607</td>\n",
       "      <td>-0.282019</td>\n",
       "      <td>1.000000</td>\n",
       "    </tr>\n",
       "  </tbody>\n",
       "</table>\n",
       "</div>"
      ],
      "text/plain": [
       "                           Wheel Size    Length     Width    Height  \\\n",
       "Wheel Size                   1.000000  0.723582  0.833802  0.370823   \n",
       "Length                       0.723582  1.000000  0.789898  0.240192   \n",
       "Width                        0.833802  0.789898  1.000000  0.314139   \n",
       "Height                       0.370823  0.240192  0.314139  1.000000   \n",
       "Wheel Base                   0.749906  0.920054  0.812143  0.315547   \n",
       "Cargo Volumn                 0.125404  0.163800  0.145282  0.012307   \n",
       "Mileage                     -0.329249 -0.504833 -0.408953 -0.288324   \n",
       "Turning Radius               0.027051  0.050220  0.023360  0.034584   \n",
       "km_winsorized               -0.130394  0.047462 -0.031235 -0.019267   \n",
       "price_in_lakhs_winzorized    0.725199  0.663280  0.705069  0.331588   \n",
       "\n",
       "                           Wheel Base  Cargo Volumn   Mileage  Turning Radius  \\\n",
       "Wheel Size                   0.749906      0.125404 -0.329249        0.027051   \n",
       "Length                       0.920054      0.163800 -0.504833        0.050220   \n",
       "Width                        0.812143      0.145282 -0.408953        0.023360   \n",
       "Height                       0.315547      0.012307 -0.288324        0.034584   \n",
       "Wheel Base                   1.000000      0.125641 -0.477465        0.059048   \n",
       "Cargo Volumn                 0.125641      1.000000 -0.093367       -0.964723   \n",
       "Mileage                     -0.477465     -0.093367  1.000000       -0.009626   \n",
       "Turning Radius               0.059048     -0.964723 -0.009626        1.000000   \n",
       "km_winsorized               -0.008189      0.023152  0.000848       -0.011933   \n",
       "price_in_lakhs_winzorized    0.699170      0.114925 -0.378707        0.017607   \n",
       "\n",
       "                           km_winsorized  price_in_lakhs_winzorized  \n",
       "Wheel Size                     -0.130394                   0.725199  \n",
       "Length                          0.047462                   0.663280  \n",
       "Width                          -0.031235                   0.705069  \n",
       "Height                         -0.019267                   0.331588  \n",
       "Wheel Base                     -0.008189                   0.699170  \n",
       "Cargo Volumn                    0.023152                   0.114925  \n",
       "Mileage                         0.000848                  -0.378707  \n",
       "Turning Radius                 -0.011933                   0.017607  \n",
       "km_winsorized                   1.000000                  -0.282019  \n",
       "price_in_lakhs_winzorized      -0.282019                   1.000000  "
      ]
     },
     "execution_count": 14,
     "metadata": {},
     "output_type": "execute_result"
    }
   ],
   "source": [
    "corr_df = df[actual_numerical_cols].corr()\n",
    "corr_df"
   ]
  },
  {
   "cell_type": "code",
   "execution_count": 13,
   "metadata": {},
   "outputs": [
    {
     "data": {
      "image/png": "[encoded data removed]",
      "text/plain": [
       "<Figure size 640x480 with 1 Axes>"
      ]
     },
     "metadata": {},
     "output_type": "display_data"
    }
   ],
   "source": [
    "df.groupby(['ownerNo'])['price_in_lakhs_winzorized'].mean().plot.bar();"
   ]
  },
  {
   "cell_type": "code",
   "execution_count": 14,
   "metadata": {},
   "outputs": [
    {
     "data": {
      "image/png": "[encoded data removed]",
      "text/plain": [
       "<Figure size 640x480 with 1 Axes>"
      ]
     },
     "metadata": {},
     "output_type": "display_data"
    }
   ],
   "source": [
    "df.groupby(['Drive Type'])['price_in_lakhs_winzorized'].mean().plot.bar();"
   ]
  },
  {
   "cell_type": "code",
   "execution_count": 15,
   "metadata": {},
   "outputs": [
    {
     "data": {
      "text/plain": [
       "Index(['Insurance Validity', 'Fuel Type', 'Engine Displacement', 'ft', 'bt',\n",
       "       'transmission', 'oem', 'model', 'Color', 'Fuel Suppy System',\n",
       "       'Turbo Charger', 'Gear Box', 'Drive Type', 'Steering Type', 'Tyre Type',\n",
       "       'Value Configuration', 'Super Charger', 'City'],\n",
       "      dtype='object')"
      ]
     },
     "execution_count": 15,
     "metadata": {},
     "output_type": "execute_result"
    }
   ],
   "source": [
    "categorical_cols = df.select_dtypes(include=['object']).columns\n",
    "categorical_cols"
   ]
  },
  {
   "cell_type": "code",
   "execution_count": 19,
   "metadata": {},
   "outputs": [
    {
     "data": {
      "image/png": "[encoded data removed]",
      "text/plain": [
       "<Figure size 640x480 with 1 Axes>"
      ]
     },
     "metadata": {},
     "output_type": "display_data"
    }
   ],
   "source": [
    "df.groupby(['Seating Capacity'])['price_in_lakhs_winzorized'].mean().plot.bar();"
   ]
  },
  {
   "cell_type": "code",
   "execution_count": 17,
   "metadata": {},
   "outputs": [
    {
     "data": {
      "image/png": "[encoded data removed]",
      "text/plain": [
       "<Figure size 640x480 with 1 Axes>"
      ]
     },
     "metadata": {},
     "output_type": "display_data"
    }
   ],
   "source": [
    "for col in categorical_cols:\n",
    "    df.groupby(col)['price_in_lakhs_winzorized'].mean().plot.bar()"
   ]
  }
 ],
 "metadata": {
  "kernelspec": {
   "display_name": ".venv",
   "language": "python",
   "name": "python3"
  },
  "language_info": {
   "codemirror_mode": {
    "name": "ipython",
    "version": 3
   },
   "file_extension": ".py",
   "mimetype": "text/x-python",
   "name": "python",
   "nbconvert_exporter": "python",
   "pygments_lexer": "ipython3",
   "version": "3.11.9"
  }
 },
 "nbformat": 4,
 "nbformat_minor": 2
}
